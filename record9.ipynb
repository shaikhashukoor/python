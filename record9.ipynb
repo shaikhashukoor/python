{
 "cells": [
  {
   "cell_type": "code",
   "execution_count": 14,
   "id": "4a79a28d",
   "metadata": {},
   "outputs": [
    {
     "name": "stdout",
     "output_type": "stream",
     "text": [
      "enter roll numbers sperated by space= 3 5 1 2 4\n",
      "enter five names sepsrsted by space= shai shy sha ny ju\n",
      "dictionary is=  {'3': 'shai', '5': 'shy', '1': 'sha', '2': 'ny', '4': 'ju'}\n",
      "in ascending order {'1': 'sha', '2': 'ny', '3': 'shai', '4': 'ju', '5': 'shy'}\n",
      "in descending order {'5': 'shy', '4': 'ju', '3': 'shai', '2': 'ny', '1': 'sha'}\n"
     ]
    }
   ],
   "source": [
    "#accept 5 students name and roll numbers and map into dictories and sort to ascending and desendind using sorted().\n",
    "a=input(\"enter roll numbers sperated by space= \").split()\n",
    "b=input(\"enter five names sepsrsted by space= \").split()\n",
    "mydict=dict(zip(a,b))\n",
    "print(\"dictionary is= \",mydict )\n",
    "ascending=dict(sorted(mydict.items()))\n",
    "print(\"in ascending order\",ascending)\n",
    "descending=dict(sorted(mydict.items(),reverse=True))\n",
    "print(\"in descending order\",descending)\n",
    "      "
   ]
  },
  {
   "cell_type": "code",
   "execution_count": 13,
   "id": "64344606",
   "metadata": {},
   "outputs": [
    {
     "name": "stdout",
     "output_type": "stream",
     "text": [
      "enter 3 roll numbers separarted by space=  3 4 5\n",
      "enter 3 names= separarted by spaceshi nyl bee\n",
      "dictionary is =  {'3': 'shi', '4': 'nyl', '5': 'bee'}\n",
      "enter 2 roll numbers separarted by space= 1 2\n",
      "enter 2 names separarted by space= we ye\n",
      "dictionary is=  {'1': 'we', '2': 'ye'}\n",
      " merged dictionary is=  {'3': 'shi', '4': 'nyl', '5': 'bee', '1': 'we', '2': 'ye'}\n"
     ]
    }
   ],
   "source": [
    "#accept 2 dictories and merge them into one by using update().\n",
    "a=input(\"enter 3 roll numbers separarted by space= \").split()\n",
    "b=input(\"enter 3 names= separarted by space\").split()\n",
    "mydict1=dict(zip(a,b))\n",
    "print(\"dictionary is = \",mydict1 )\n",
    "c=input(\"enter 2 roll numbers separarted by space= \").split()\n",
    "d=input(\"enter 2 names separarted by space= \").split()\n",
    "mydict2=dict(zip(c,d))\n",
    "print(\"dictionary is= \",mydict2 )\n",
    "mydict1.update(mydict2)\n",
    "print(\" merged dictionary is= \",mydict1)\n"
   ]
  },
  {
   "cell_type": "code",
   "execution_count": null,
   "id": "11735bf7",
   "metadata": {},
   "outputs": [],
   "source": []
  },
  {
   "cell_type": "code",
   "execution_count": null,
   "id": "6650eef9",
   "metadata": {},
   "outputs": [],
   "source": []
  }
 ],
 "metadata": {
  "kernelspec": {
   "display_name": "Python 3 (ipykernel)",
   "language": "python",
   "name": "python3"
  },
  "language_info": {
   "codemirror_mode": {
    "name": "ipython",
    "version": 3
   },
   "file_extension": ".py",
   "mimetype": "text/x-python",
   "name": "python",
   "nbconvert_exporter": "python",
   "pygments_lexer": "ipython3",
   "version": "3.11.5"
  }
 },
 "nbformat": 4,
 "nbformat_minor": 5
}
