{
 "cells": [
  {
   "cell_type": "code",
   "execution_count": 19,
   "id": "1e9c4c7c",
   "metadata": {},
   "outputs": [
    {
     "name": "stdout",
     "output_type": "stream",
     "text": [
      "even numbers upto 25= [2, 4, 6, 8, 10, 12, 14, 16, 18, 20, 22, 24]\n",
      "sum of even numbers is= 156\n"
     ]
    }
   ],
   "source": [
    "#wrute a python program to print all even numbers upto 25 and calculate the sum\n",
    "a=range(2,25,2)\n",
    "print(\"even numbers upto 25=\",list(a))\n",
    "b=sum(list(a))\n",
    "print(\"sum of even numbers is=\",b)"
   ]
  },
  {
   "cell_type": "code",
   "execution_count": 27,
   "id": "76a41022",
   "metadata": {},
   "outputs": [
    {
     "name": "stdout",
     "output_type": "stream",
     "text": [
      "enter a range=5\n",
      "the numbers in reverse is (5, 4, 3, 2, 1)\n",
      "the sum of the reversed numbers= 15\n"
     ]
    }
   ],
   "source": [
    "#write a python program to print all in reverse order and calculate the sum\n",
    "num=int(input(\"enter a range=\"))\n",
    "a=(tuple(range(num,0,-1)))\n",
    "print(\"the numbers in reverse is\",a)\n",
    "s=sum(a)\n",
    "print(\"the sum of the reversed numbers=\",s)\n"
   ]
  },
  {
   "cell_type": "code",
   "execution_count": null,
   "id": "452553ba",
   "metadata": {},
   "outputs": [],
   "source": []
  }
 ],
 "metadata": {
  "kernelspec": {
   "display_name": "Python 3 (ipykernel)",
   "language": "python",
   "name": "python3"
  },
  "language_info": {
   "codemirror_mode": {
    "name": "ipython",
    "version": 3
   },
   "file_extension": ".py",
   "mimetype": "text/x-python",
   "name": "python",
   "nbconvert_exporter": "python",
   "pygments_lexer": "ipython3",
   "version": "3.11.5"
  }
 },
 "nbformat": 4,
 "nbformat_minor": 5
}
