{
 "cells": [
  {
   "cell_type": "code",
   "execution_count": 2,
   "id": "d6beb2f1",
   "metadata": {},
   "outputs": [
    {
     "name": "stdout",
     "output_type": "stream",
     "text": [
      "enter your first number=45\n",
      "enter your second number=55\n",
      "enter your third number=23\n",
      "biggest number from the given numbers is = 55.0\n"
     ]
    }
   ],
   "source": [
    "#write a program to find the biggest of 3 numbers(use max())\n",
    "a=float(input(\"enter your first number=\"))\n",
    "b=float(input(\"enter your second number=\"))\n",
    "c=float(input(\"enter your third number=\"))\n",
    "big=max(a,b,c)\n",
    "print(\"biggest number from the given numbers is =\",big)"
   ]
  },
  {
   "cell_type": "code",
   "execution_count": null,
   "id": "889ed268",
   "metadata": {},
   "outputs": [],
   "source": []
  }
 ],
 "metadata": {
  "kernelspec": {
   "display_name": "Python 3 (ipykernel)",
   "language": "python",
   "name": "python3"
  },
  "language_info": {
   "codemirror_mode": {
    "name": "ipython",
    "version": 3
   },
   "file_extension": ".py",
   "mimetype": "text/x-python",
   "name": "python",
   "nbconvert_exporter": "python",
   "pygments_lexer": "ipython3",
   "version": "3.11.5"
  }
 },
 "nbformat": 4,
 "nbformat_minor": 5
}
