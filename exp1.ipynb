{
 "cells": [
  {
   "cell_type": "code",
   "execution_count": 1,
   "id": "d2008528",
   "metadata": {},
   "outputs": [
    {
     "name": "stdout",
     "output_type": "stream",
     "text": [
      "enter the base of the traingle4\n",
      "enter the height of the triangle5\n",
      "area of the given traingle is  10.0\n"
     ]
    }
   ],
   "source": [
    "import math\n",
    "base=float(input(\"enter the base of the traingle\"))\n",
    "height=float(input(\"enter the height of the triangle\"))\n",
    "area=1/2*base*height\n",
    "print(\"area of the given traingle is \",area)"
   ]
  },
  {
   "cell_type": "code",
   "execution_count": 16,
   "id": "26d69aa1",
   "metadata": {},
   "outputs": [
    {
     "name": "stdout",
     "output_type": "stream",
     "text": [
      "enter your name shaikha\n",
      "hello, shaikha!\n"
     ]
    }
   ],
   "source": [
    "name=(input(\"enter your name \"))\n",
    "print(\"hello,\",name+\"!\")"
   ]
  },
  {
   "cell_type": "code",
   "execution_count": 10,
   "id": "85154c75",
   "metadata": {},
   "outputs": [
    {
     "name": "stdout",
     "output_type": "stream",
     "text": [
      "enter a value=7\n",
      "the previous value= 6\n",
      "the next value= 8\n"
     ]
    }
   ],
   "source": [
    "import math\n",
    "n=int(input(\"enter a value=\"))\n",
    "p=n-1\n",
    "n=n+1\n",
    "print(\"the previous value=\",p)\n",
    "print(\"the next value=\",n)\n"
   ]
  },
  {
   "cell_type": "code",
   "execution_count": 18,
   "id": "24bb3088",
   "metadata": {},
   "outputs": [
    {
     "name": "stdout",
     "output_type": "stream",
     "text": [
      "enter the principle amount=5000\n",
      "rate of intrest in percentage=2\n",
      "time=7\n",
      "simple intrest is= 700.0\n"
     ]
    }
   ],
   "source": [
    "import math\n",
    "p=float(input(\"enter the principle amount=\"))\n",
    "r=float(input(\"rate of intrest in percentage=\"))\n",
    "t=float(input(\"time=\"))\n",
    "si=(p*r*t)/100\n",
    "print(\"simple intrest is=\",si)"
   ]
  },
  {
   "cell_type": "code",
   "execution_count": null,
   "id": "0c93ba1e",
   "metadata": {},
   "outputs": [],
   "source": []
  }
 ],
 "metadata": {
  "kernelspec": {
   "display_name": "Python 3 (ipykernel)",
   "language": "python",
   "name": "python3"
  },
  "language_info": {
   "codemirror_mode": {
    "name": "ipython",
    "version": 3
   },
   "file_extension": ".py",
   "mimetype": "text/x-python",
   "name": "python",
   "nbconvert_exporter": "python",
   "pygments_lexer": "ipython3",
   "version": "3.11.5"
  }
 },
 "nbformat": 4,
 "nbformat_minor": 5
}
