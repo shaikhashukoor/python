{
 "cells": [
  {
   "cell_type": "code",
   "execution_count": 31,
   "id": "86e79db6",
   "metadata": {},
   "outputs": [
    {
     "name": "stdout",
     "output_type": "stream",
     "text": [
      "enter length of the rectangle1: 2\n",
      "enter bredth of the rectangle1: 3\n",
      "enter length of the rectangle2: 4\n",
      "enter bredth of the rectangle2: 2\n",
      "area of first rectangle  : 6.0\n",
      "perimeter of first rectangle  : 10.0\n",
      "area of first rectangle: 8.0\n",
      "perimeter of first rectangle: 12.0\n",
      "rectagle 2 is greater\n"
     ]
    }
   ],
   "source": [
    "class rectangle:\n",
    "    def rect(self,length,bredth):\n",
    "        self.length=length\n",
    "        self.bredth=bredth\n",
    "    def area(self):\n",
    "        return (self.length*self.bredth)\n",
    "    def peri(self):\n",
    "        return 2*(self.length+self.bredth)\n",
    "    def display(self):\n",
    "        print(\"area of first rectangle  :\",r1.area())\n",
    "        print(\"perimeter of first rectangle  :\",r1.peri())\n",
    "        print(\"area of first rectangle:\",r2.area())\n",
    "        print(\"perimeter of first rectangle:\",r2.peri())\n",
    "r1=rectangle()\n",
    "r2=rectangle() \n",
    "\n",
    "length1=float(input(\"enter length of the rectangle1: \"))\n",
    "bredth1=float(input(\"enter bredth of the rectangle1: \")) \n",
    "length2=float(input(\"enter length of the rectangle2: \"))\n",
    "bredth2=float(input(\"enter bredth of the rectangle2: \")) \n",
    "\n",
    "r1.rect(length1,bredth1)\n",
    "r2.rect(length2,bredth2)\n",
    "r1.display()\n",
    "\n",
    "a=r1.area()\n",
    "b=r2.area()\n",
    "\n",
    "if(a==b):\n",
    "    print(\"both rectangle is same\");\n",
    "elif (a>b):\n",
    "    print(\"rectangle 1 is greater\");\n",
    "else:\n",
    "    print(\"rectagle 2 is greater\");\n",
    "    "
   ]
  },
  {
   "cell_type": "code",
   "execution_count": null,
   "id": "9c8b1733",
   "metadata": {},
   "outputs": [],
   "source": []
  },
  {
   "cell_type": "code",
   "execution_count": null,
   "id": "d9e7a6fb",
   "metadata": {},
   "outputs": [],
   "source": []
  }
 ],
 "metadata": {
  "kernelspec": {
   "display_name": "Python 3 (ipykernel)",
   "language": "python",
   "name": "python3"
  },
  "language_info": {
   "codemirror_mode": {
    "name": "ipython",
    "version": 3
   },
   "file_extension": ".py",
   "mimetype": "text/x-python",
   "name": "python",
   "nbconvert_exporter": "python",
   "pygments_lexer": "ipython3",
   "version": "3.11.5"
  }
 },
 "nbformat": 4,
 "nbformat_minor": 5
}
