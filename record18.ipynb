{
 "cells": [
  {
   "cell_type": "code",
   "execution_count": 6,
   "id": "295ef43e",
   "metadata": {},
   "outputs": [
    {
     "name": "stdout",
     "output_type": "stream",
     "text": [
      "enter the length of the first rectangle:2\n",
      "enter the bredth of the second rectangle:6\n",
      "enter the length of the first rectangle:2\n",
      "enter the bredth of the second rectangle:3\n",
      "rectangle 1 is greater\n"
     ]
    }
   ],
   "source": [
    "class rectangle:\n",
    "    def __init__(self,le,be):\n",
    "        self.length=le\n",
    "        self.bredth=be\n",
    "        self.area=le*be\n",
    "        \n",
    "    def __lt__(self,other):\n",
    "        if self.area < other.area:\n",
    "            print(\"rectangle 2 is greater\")\n",
    "        else:\n",
    "            print(\"rectangle 1 is greater\")\n",
    "\n",
    "le1=int(input(\"enter the length of the first rectangle:\" ))\n",
    "be1=int(input(\"enter the bredth of the second rectangle:\" ))   \n",
    "le2=int(input(\"enter the length of the first rectangle:\" ))   \n",
    "be2=int(input(\"enter the bredth of the second rectangle:\" ))   \n",
    "\n",
    "r1=rectangle(le1,be1)\n",
    "r2=rectangle(le2,be2)\n",
    "\n",
    "r1 < r2"
   ]
  },
  {
   "cell_type": "code",
   "execution_count": 16,
   "id": "2f99437f",
   "metadata": {},
   "outputs": [
    {
     "name": "stdout",
     "output_type": "stream",
     "text": [
      "enter a hour1: 2\n",
      "enter a minute1: 40\n",
      "enter a second1: 20\n",
      "enter a hour2: 3\n",
      "enter a minute2: 50\n",
      "enter a second2: 45\n",
      "added time:\n",
      "6 hour 31 minute 5 second\n"
     ]
    }
   ],
   "source": [
    "class time:\n",
    "    def __init__(self,h,m,s):\n",
    "        self.h=h\n",
    "        self.m=m\n",
    "        self.s=s\n",
    "    def __add__(self,other):\n",
    "            hh=self.h+other.h\n",
    "            mm=self.m+other.m\n",
    "            ss=self.s+other.s\n",
    "            if ss>=60:\n",
    "                mm=mm+ss//60\n",
    "                ss=ss%60\n",
    "            if mm>=60:\n",
    "                hh=hh+mm//60\n",
    "                mm=mm%60\n",
    "            print(\"added time:\")\n",
    "            print(hh,\"hour\",mm,\"minute\",ss,\"second\")\n",
    "\n",
    "h1=int(input(\"enter a hour1: \"))\n",
    "m1=int(input(\"enter a minute1: \"))\n",
    "s1=int(input(\"enter a second1: \"))\n",
    "h2=int(input(\"enter a hour2: \"))\n",
    "m2=int(input(\"enter a minute2: \"))\n",
    "s2=int(input(\"enter a second2: \"))\n",
    "\n",
    "t1=time(h1,m1,s1)\n",
    "t2=time(h2,m2,s2)        \n",
    "\n",
    "t1+t2"
   ]
  },
  {
   "cell_type": "code",
   "execution_count": null,
   "id": "1c9f09eb",
   "metadata": {},
   "outputs": [],
   "source": []
  },
  {
   "cell_type": "code",
   "execution_count": null,
   "id": "171801b4",
   "metadata": {},
   "outputs": [],
   "source": []
  }
 ],
 "metadata": {
  "kernelspec": {
   "display_name": "Python 3 (ipykernel)",
   "language": "python",
   "name": "python3"
  },
  "language_info": {
   "codemirror_mode": {
    "name": "ipython",
    "version": 3
   },
   "file_extension": ".py",
   "mimetype": "text/x-python",
   "name": "python",
   "nbconvert_exporter": "python",
   "pygments_lexer": "ipython3",
   "version": "3.11.5"
  }
 },
 "nbformat": 4,
 "nbformat_minor": 5
}
