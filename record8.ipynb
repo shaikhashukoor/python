{
 "cells": [
  {
   "cell_type": "code",
   "execution_count": 2,
   "id": "e1ae6480",
   "metadata": {},
   "outputs": [
    {
     "name": "stdout",
     "output_type": "stream",
     "text": [
      "enter set of colors= red green blue\n",
      "enter set of colors= blue white orange\n",
      "color set 1=   {'green', 'blue', 'red'}\n",
      "color set 2=   {'blue', 'orange', 'white'}\n",
      " difference=   {'green', 'red'}\n"
     ]
    }
   ],
   "source": [
    "#PRINT OUT ALL COLOURS FROM COLOUR SET 1 NOT CONTAINED IN COLOR SET2\n",
    "colourset1=set(input(\"enter set of colors= \").split())\n",
    "colourset2=set(input(\"enter set of colors= \").split())\n",
    "print(\"color set 1=  \",colourset1)\n",
    "print(\"color set 2=  \",colourset2)\n",
    "dif=colourset1-colourset2\n",
    "print(\" difference=  \",dif)"
   ]
  },
  {
   "cell_type": "code",
   "execution_count": 1,
   "id": "33c679a2",
   "metadata": {},
   "outputs": [
    {
     "name": "stdout",
     "output_type": "stream",
     "text": [
      "enter some colors= red green yellow blue\n",
      "enter some other colors= white black\n",
      "set1=   {'green', 'blue', 'red', 'yellow'}\n",
      "set2=   {'black', 'white'}\n",
      "merged colors =   {'blue', 'white', 'black', 'red', 'green', 'yellow'}\n"
     ]
    }
   ],
   "source": [
    "#printout all colors from color set 1 and color set 2\n",
    "colourset1=set(input(\"enter some colors= \").split())\n",
    "colourset2=set(input(\"enter some other colors= \").split())\n",
    "print(\"set1=  \",colourset1)\n",
    "print(\"set2=  \",colourset2)\n",
    "nonfav=colourset1|colourset2\n",
    "print(\"merged colors =  \",nonfav)"
   ]
  },
  {
   "cell_type": "code",
   "execution_count": null,
   "id": "0ecae2da",
   "metadata": {},
   "outputs": [],
   "source": []
  }
 ],
 "metadata": {
  "kernelspec": {
   "display_name": "Python 3 (ipykernel)",
   "language": "python",
   "name": "python3"
  },
  "language_info": {
   "codemirror_mode": {
    "name": "ipython",
    "version": 3
   },
   "file_extension": ".py",
   "mimetype": "text/x-python",
   "name": "python",
   "nbconvert_exporter": "python",
   "pygments_lexer": "ipython3",
   "version": "3.11.5"
  }
 },
 "nbformat": 4,
 "nbformat_minor": 5
}
