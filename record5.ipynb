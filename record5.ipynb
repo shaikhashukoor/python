{
 "cells": [
  {
   "cell_type": "code",
   "execution_count": 13,
   "id": "86af2ceb",
   "metadata": {},
   "outputs": [
    {
     "name": "stdout",
     "output_type": "stream",
     "text": [
      "enter colours seperated by commared,green,black,blue\n",
      "the given list is red,green,black,blue\n",
      "the first colour is red\n",
      "the last colour is blue\n"
     ]
    }
   ],
   "source": [
    "#list of colour seperted by comma from user and display first and last colour\n",
    "color=input(\"enter colours seperated by comma\")\n",
    "print(\"the given list is\",color)\n",
    "s=color.split(\",\")\n",
    "print(\"the first colour is\",s[0])\n",
    "print(\"the last colour is\",s[-1])\n"
   ]
  },
  {
   "cell_type": "code",
   "execution_count": 17,
   "id": "842a8661",
   "metadata": {},
   "outputs": [
    {
     "name": "stdout",
     "output_type": "stream",
     "text": [
      "enter the filename with extentionshaikha.php\n",
      "the extention is   php\n"
     ]
    }
   ],
   "source": [
    "#accepts a filname from the user and print extention of that\n",
    "filename=input(\"enter the filename with extention\")\n",
    "e=filename.split(\".\")\n",
    "r=e[-1]\n",
    "print(\"the extention is  \",r)\n"
   ]
  },
  {
   "cell_type": "code",
   "execution_count": 29,
   "id": "da7c26be",
   "metadata": {},
   "outputs": [
    {
     "name": "stdout",
     "output_type": "stream",
     "text": [
      "enter numbers that separated by comma=1,5,8,2,5\n",
      "the list of number is  [1, 5, 8, 2, 5]\n",
      "the sum is 21\n"
     ]
    }
   ],
   "source": [
    "#accept a sequence of number seperated by comma from user as list and display the sum of numbers\n",
    "num=input(\"enter numbers that separated by comma=\")\n",
    "numbers=list(map(int,num.split(\",\")))\n",
    "print(\"the list of number is \",numbers)\n",
    "totalsum=sum(numbers)\n",
    "print(\"the sum is\",totalsum)"
   ]
  },
  {
   "cell_type": "code",
   "execution_count": null,
   "id": "b3de6f4f",
   "metadata": {},
   "outputs": [],
   "source": []
  }
 ],
 "metadata": {
  "kernelspec": {
   "display_name": "Python 3 (ipykernel)",
   "language": "python",
   "name": "python3"
  },
  "language_info": {
   "codemirror_mode": {
    "name": "ipython",
    "version": 3
   },
   "file_extension": ".py",
   "mimetype": "text/x-python",
   "name": "python",
   "nbconvert_exporter": "python",
   "pygments_lexer": "ipython3",
   "version": "3.11.5"
  }
 },
 "nbformat": 4,
 "nbformat_minor": 5
}
