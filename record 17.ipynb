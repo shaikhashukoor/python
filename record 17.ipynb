{
 "cells": [
  {
   "cell_type": "code",
   "execution_count": 19,
   "id": "f055212a",
   "metadata": {},
   "outputs": [
    {
     "name": "stdout",
     "output_type": "stream",
     "text": [
      " enter the name of publisher: shaikha\n",
      "enter the title of book: the nine lies\n",
      "enter the author name: jacob pv\n",
      "enter the price of book: 345\n",
      " enter the number of pages: 777\n",
      "BANK DETAILS:\n",
      "PUBLISHER:  shaikha\n",
      "TITLE:  the nine lies\n",
      "AUTHOR:  jacob pv\n",
      "PRICE:  345\n",
      "NO OF PAGES:  777\n"
     ]
    }
   ],
   "source": [
    "class publisher:\n",
    "    def __init__(self,name):\n",
    "        self.name=name\n",
    "class book(publisher):\n",
    "     def __init__(self,name,title,author):\n",
    "        super().__init__(name)\n",
    "        self.title=title\n",
    "        self.author=author\n",
    "class python(book):\n",
    "     def __init__(self,name,title,author,price,nop):\n",
    "        super().__init__(name,title,author)\n",
    "        self.price=price\n",
    "        self.nop=nop\n",
    "     def display(self):\n",
    "            print(\"BANK DETAILS:\")\n",
    "            print(\"PUBLISHER: \",self.name)\n",
    "            print(\"TITLE: \",self.title)\n",
    "            print(\"AUTHOR: \",self.author)\n",
    "            print(\"PRICE: \",self.price)\n",
    "            print(\"NO OF PAGES: \",self.nop)\n",
    "        \n",
    "pub=input(\" enter the name of publisher: \")  \n",
    "ti=input(\"enter the title of book: \")    \n",
    "au=input(\"enter the author name: \")    \n",
    "pr=int(input(\"enter the price of book: \"))    \n",
    "np=int(input(\" enter the number of pages: \"))    \n",
    "\n",
    "author=python(pub,ti,au,pr,np)\n",
    "author.display()"
   ]
  },
  {
   "cell_type": "code",
   "execution_count": null,
   "id": "4d437bf5",
   "metadata": {},
   "outputs": [],
   "source": []
  },
  {
   "cell_type": "code",
   "execution_count": null,
   "id": "1a3e80bd",
   "metadata": {},
   "outputs": [],
   "source": []
  }
 ],
 "metadata": {
  "kernelspec": {
   "display_name": "Python 3 (ipykernel)",
   "language": "python",
   "name": "python3"
  },
  "language_info": {
   "codemirror_mode": {
    "name": "ipython",
    "version": 3
   },
   "file_extension": ".py",
   "mimetype": "text/x-python",
   "name": "python",
   "nbconvert_exporter": "python",
   "pygments_lexer": "ipython3",
   "version": "3.11.5"
  }
 },
 "nbformat": 4,
 "nbformat_minor": 5
}
