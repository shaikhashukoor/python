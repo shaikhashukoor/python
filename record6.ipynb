{
 "cells": [
  {
   "cell_type": "code",
   "execution_count": 2,
   "id": "19228b10",
   "metadata": {},
   "outputs": [
    {
     "name": "stdout",
     "output_type": "stream",
     "text": [
      "enter numbers=2 4 6 8 0 1\n",
      "tuple is= (2, 4, 6, 8, 0, 1)\n",
      "3rd element is= 6 3rd element from last is= 8\n"
     ]
    }
   ],
   "source": [
    "#writw a python program to get 3rd element and 3rd elemet from last of tuple\n",
    "a=input(\"enter numbers=\")\n",
    "numbers=tuple(map(int,a.split()))\n",
    "print(\"tuple is=\",numbers)\n",
    "b=numbers[2]\n",
    "c=numbers[-3]\n",
    "print(\"3rd element is=\",b,\"3rd element from last is=\",c)"
   ]
  },
  {
   "cell_type": "code",
   "execution_count": 13,
   "id": "bb64b902",
   "metadata": {},
   "outputs": [
    {
     "name": "stdout",
     "output_type": "stream",
     "text": [
      "enetr numbers=1,2,3,4,5\n",
      "tuple is= (1, 2, 3, 4, 5)\n",
      "average value of the numbers in tuple is= 3.0\n"
     ]
    }
   ],
   "source": [
    "#write a python program which accepts a sequence of comma separated numbers from user and generate atuple with those numbers and five average of all items\n",
    "a=input(\"enetr numbers=\")\n",
    "numbers=tuple(map(int,a.split(\",\")))\n",
    "print(\"tuple is=\",numbers)\n",
    "b=sum(numbers)\n",
    "c=len(numbers)\n",
    "print(\"average value of the numbers in tuple is=\",b/c)\n"
   ]
  },
  {
   "cell_type": "code",
   "execution_count": null,
   "id": "7e1da42d",
   "metadata": {},
   "outputs": [],
   "source": []
  }
 ],
 "metadata": {
  "kernelspec": {
   "display_name": "Python 3 (ipykernel)",
   "language": "python",
   "name": "python3"
  },
  "language_info": {
   "codemirror_mode": {
    "name": "ipython",
    "version": 3
   },
   "file_extension": ".py",
   "mimetype": "text/x-python",
   "name": "python",
   "nbconvert_exporter": "python",
   "pygments_lexer": "ipython3",
   "version": "3.11.5"
  }
 },
 "nbformat": 4,
 "nbformat_minor": 5
}
