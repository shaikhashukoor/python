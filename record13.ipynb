{
 "cells": [
  {
   "cell_type": "code",
   "execution_count": 21,
   "id": "67c19668",
   "metadata": {},
   "outputs": [
    {
     "name": "stdout",
     "output_type": "stream",
     "text": [
      "enter some words=run,write,read\n",
      "the longest word's length is= 5\n"
     ]
    }
   ],
   "source": [
    "#list of words find the longest word\n",
    "a=list(input(\"enter some words=\").split(\",\"))\n",
    "def longest(a):\n",
    "    b=max(len(word) for word in a)\n",
    "    return b\n",
    "print(\"the longest word's length is=\",longest(a))\n",
    "    \n",
    "        "
   ]
  },
  {
   "cell_type": "code",
   "execution_count": 7,
   "id": "8980c589",
   "metadata": {},
   "outputs": [
    {
     "name": "stdout",
     "output_type": "stream",
     "text": [
      "enter the number of steps6\n",
      "*  \n",
      "*  *  \n",
      "*  *  *  \n",
      "*  *  *  *  \n",
      "*  *  *  *  *  \n",
      "*  *  *  *  *  *  \n",
      "*  *  *  *  *  \n",
      "*  *  *  *  \n",
      "*  *  *  \n",
      "*  *  \n",
      "*  \n"
     ]
    }
   ],
   "source": [
    "#pyramid using function\n",
    "b=int(input(\"enter the number of steps\"))\n",
    "def pattern(b):\n",
    "    for i in range(1,b+1):\n",
    "        for j in range(i):\n",
    "            print(\"*\",end=\"  \")\n",
    "        print( )\n",
    "    for i in range(b-1,0,-1):\n",
    "        for j in range(i):\n",
    "            print(\"*\",end=\"  \")\n",
    "        print( )\n",
    "pattern(b)    "
   ]
  },
  {
   "cell_type": "code",
   "execution_count": 1,
   "id": "fd607e7e",
   "metadata": {},
   "outputs": [
    {
     "name": "stdout",
     "output_type": "stream",
     "text": [
      "enter a number to get factors4\n",
      "factors of 4 is [1, 2, 4]\n"
     ]
    }
   ],
   "source": [
    "#factors of a number\n",
    "c=int(input(\"enter a number to get factors\"))\n",
    "def factors(c):\n",
    "    b=[x for x in range (1,c+1) if c%x==0]\n",
    "    return b\n",
    "print(\"factors of\",c, \"is\",factors(c) )\n",
    "        \n",
    "        \n",
    "    "
   ]
  },
  {
   "cell_type": "code",
   "execution_count": 9,
   "id": "77d96c7a",
   "metadata": {},
   "outputs": [
    {
     "name": "stdout",
     "output_type": "stream",
     "text": [
      "enter the side of a square=3\n",
      "area of the sqaure is 9\n",
      "enter the length of a rectangle=2\n",
      "enter the bredth of a rectangle=3\n",
      "area of the rectangle is 6\n",
      "enter the breadth of a triangle=4\n",
      "enter the height of a triangle=2\n",
      "area of the trianlge is 4.0\n"
     ]
    }
   ],
   "source": [
    "#area of sqaure rectangle triangle using lambda function\n",
    "a=int(input(\"enter the side of a square=\"))\n",
    "area=lambda a:a*a\n",
    "print(\"area of the sqaure is\",area(a))\n",
    "b=int(input(\"enter the length of a rectangle=\"))\n",
    "c=int(input(\"enter the bredth of a rectangle=\"))\n",
    "arear=lambda b,c:b*c\n",
    "print(\"area of the rectangle is\",arear(b,c))\n",
    "d=int(input(\"enter the breadth of a triangle=\"))\n",
    "e=int(input(\"enter the height of a triangle=\"))\n",
    "areat=lambda d,e:1/2*d*e\n",
    "print(\"area of the trianlge is\",areat(d,e))"
   ]
  },
  {
   "cell_type": "code",
   "execution_count": null,
   "id": "a9f87679",
   "metadata": {},
   "outputs": [],
   "source": []
  }
 ],
 "metadata": {
  "kernelspec": {
   "display_name": "Python 3 (ipykernel)",
   "language": "python",
   "name": "python3"
  },
  "language_info": {
   "codemirror_mode": {
    "name": "ipython",
    "version": 3
   },
   "file_extension": ".py",
   "mimetype": "text/x-python",
   "name": "python",
   "nbconvert_exporter": "python",
   "pygments_lexer": "ipython3",
   "version": "3.11.5"
  }
 },
 "nbformat": 4,
 "nbformat_minor": 5
}
