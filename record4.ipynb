{
 "cells": [
  {
   "cell_type": "code",
   "execution_count": 42,
   "id": "fc8c554c",
   "metadata": {},
   "outputs": [
    {
     "name": "stdout",
     "output_type": "stream",
     "text": [
      "enter a string=shaikha\n",
      "interchanged string is= ahaikhs\n"
     ]
    }
   ],
   "source": [
    "#interchange last and first characters of tring\n",
    "a=input(\"enter a string=\")\n",
    "first=(a[0])\n",
    "last=(a[-1])\n",
    "middle=(a[1:-1])\n",
    "change=(last+middle+first)\n",
    "print(\"interchanged string is=\",change)\n"
   ]
  },
  {
   "cell_type": "code",
   "execution_count": 56,
   "id": "e9525539",
   "metadata": {},
   "outputs": [
    {
     "name": "stdout",
     "output_type": "stream",
     "text": [
      "enter a string=shaikha\n",
      "new string is= shha\n"
     ]
    }
   ],
   "source": [
    "#string made of first 2 and last 2 letters of astring\n",
    "a=input(\"enter a string=\")\n",
    "first=(a[0:2])\n",
    "last=(a[-2:])\n",
    "change=(first+last)\n",
    "print(\"new string is=\",change)"
   ]
  },
  {
   "cell_type": "code",
   "execution_count": 7,
   "id": "092ce242",
   "metadata": {},
   "outputs": [
    {
     "name": "stdout",
     "output_type": "stream",
     "text": [
      "enter first string=yellow \n",
      "enter second string=colour\n",
      "new string is= collow yelour\n"
     ]
    }
   ],
   "source": [
    "#get a single string from two given string,separated by space and swap the first two character of both string\n",
    "a=input(\"enter first string=\")\n",
    "b=input(\"enter second string=\")\n",
    "first=(a[0:2])\n",
    "last=(b[0:2])\n",
    "middle=(a[2:])\n",
    "m=(b[2:])\n",
    "c=(last+middle+ first+m)\n",
    "print(\"new string is=\",c)"
   ]
  },
  {
   "cell_type": "code",
   "execution_count": 9,
   "id": "cacf673d",
   "metadata": {},
   "outputs": [
    {
     "name": "stdout",
     "output_type": "stream",
     "text": [
      "enter a string=shaikhashukoor\n",
      "new string is= shaikha$hukoor\n"
     ]
    }
   ],
   "source": [
    "#get a string from given string where all occurence of its first char have been changed to$ except the first character by using replace()\n",
    "a=input(\"enter a string=\")\n",
    "fc=a[0]\n",
    "b=a[1:].replace(fc,'$')\n",
    "result=fc+b\n",
    "print(\"new string is=\",result)"
   ]
  },
  {
   "cell_type": "code",
   "execution_count": null,
   "id": "5cc7b5f4",
   "metadata": {},
   "outputs": [],
   "source": []
  }
 ],
 "metadata": {
  "kernelspec": {
   "display_name": "Python 3 (ipykernel)",
   "language": "python",
   "name": "python3"
  },
  "language_info": {
   "codemirror_mode": {
    "name": "ipython",
    "version": 3
   },
   "file_extension": ".py",
   "mimetype": "text/x-python",
   "name": "python",
   "nbconvert_exporter": "python",
   "pygments_lexer": "ipython3",
   "version": "3.11.5"
  }
 },
 "nbformat": 4,
 "nbformat_minor": 5
}
