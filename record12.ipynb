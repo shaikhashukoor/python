{
 "cells": [
  {
   "cell_type": "code",
   "execution_count": 29,
   "id": "83895ea3",
   "metadata": {},
   "outputs": [
    {
     "name": "stdout",
     "output_type": "stream",
     "text": [
      "enter some positive and negative numbers=7 -3 6 -2\n",
      "positive list  [7, 6]\n",
      "enter n terms=4\n",
      "square of  4 terms is [1, 4, 9, 16]\n",
      "enter a word=vowel\n",
      "list of vowels is ['o', 'e']\n",
      "orinal value of word is  [118, 111, 119, 101, 108]\n"
     ]
    }
   ],
   "source": [
    "#generate positive list of numbers from giiven list integers\n",
    "a=list(map(int,input(\"enter some positive and negative numbers=\").split()))\n",
    "b=[x for x in a if x>=0]\n",
    "print(\"positive list \",b)\n",
    "#square of n numbers\n",
    "c=(int(input(\"enter n terms=\")))\n",
    "d=[x**2 for x in range(1,c+1) ]\n",
    "print(\"square of \",c, \"terms is\",d)\n",
    "#from a list of vowels selescted from a given word,#list ordinal value of each element of a word\n",
    "e=input(\"enter a word=\")\n",
    "f=[char for char in e if char in \"a,e,i,o,u\"]\n",
    "print(\"list of vowels is\",f)\n",
    "g=[ord(char) for char in e]\n",
    "print(\"orinal value of word is \",g)\n"
   ]
  }
 ],
 "metadata": {
  "kernelspec": {
   "display_name": "Python 3 (ipykernel)",
   "language": "python",
   "name": "python3"
  },
  "language_info": {
   "codemirror_mode": {
    "name": "ipython",
    "version": 3
   },
   "file_extension": ".py",
   "mimetype": "text/x-python",
   "name": "python",
   "nbconvert_exporter": "python",
   "pygments_lexer": "ipython3",
   "version": "3.11.5"
  }
 },
 "nbformat": 4,
 "nbformat_minor": 5
}
