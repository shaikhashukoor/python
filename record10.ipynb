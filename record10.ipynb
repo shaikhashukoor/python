{
 "cells": [
  {
   "cell_type": "code",
   "execution_count": 24,
   "id": "d12c88e4",
   "metadata": {
    "scrolled": true
   },
   "outputs": [
    {
     "name": "stdout",
     "output_type": "stream",
     "text": [
      "enter some integers separated by space2 4 6 1\n",
      "enter some integers separated by space2 6 8 9\n",
      "list a = [2, 4, 6, 1]\n",
      "list b= [2, 6, 8, 9]\n",
      "both in  same length\n",
      "sum of both list is not same\n",
      "have commom values {2, 6}\n"
     ]
    }
   ],
   "source": [
    "a=list(map(int,input(\"enter some integers separated by space\").split()))\n",
    "b=list(map(int,input(\"enter some integers separated by space\").split()))\n",
    "print(\"list a =\",a)\n",
    "print(\"list b=\",b)\n",
    "c=set(a)&set(b)\n",
    "if(len(a)==len(b)):\n",
    "     print(\"both in  same length\")\n",
    "else:\n",
    "    print(\"not same length\")\n",
    "if(sum(a)==sum(b)):\n",
    "    print(\"sum of both list is same\")\n",
    "else:\n",
    "     print(\"sum of both list is not same\")\n",
    "if set(a)&set(b):\n",
    "    print(\"have commom values\",c)\n",
    "else:\n",
    "    print(\"no common values\")\n",
    "\n",
    "    "
   ]
  },
  {
   "cell_type": "code",
   "execution_count": 25,
   "id": "ee0de0dc",
   "metadata": {},
   "outputs": [
    {
     "name": "stdout",
     "output_type": "stream",
     "text": [
      "enter a word sweat\n",
      "modified word sweating\n"
     ]
    }
   ],
   "source": [
    "a=input(\"enter a word \")\n",
    "if(a.endswith(\"ing\")):\n",
    "    print(\"modified word\",a+\"ly\")\n",
    "else:\n",
    "    print(\"modified word\",a+\"ing\")"
   ]
  },
  {
   "cell_type": "code",
   "execution_count": 26,
   "id": "2a1b6194",
   "metadata": {},
   "outputs": [
    {
     "name": "stdout",
     "output_type": "stream",
     "text": [
      "enter a word sweating\n",
      "modified word sweatingly\n"
     ]
    }
   ],
   "source": [
    "a=input(\"enter a word \")\n",
    "if(a.endswith(\"ing\")):\n",
    "    print(\"modified word\",a+\"ly\")\n",
    "else:\n",
    "    print(\"modified word\",a+\"ing\")"
   ]
  },
  {
   "cell_type": "code",
   "execution_count": null,
   "id": "3567e8d9",
   "metadata": {},
   "outputs": [],
   "source": []
  }
 ],
 "metadata": {
  "kernelspec": {
   "display_name": "Python 3 (ipykernel)",
   "language": "python",
   "name": "python3"
  },
  "language_info": {
   "codemirror_mode": {
    "name": "ipython",
    "version": 3
   },
   "file_extension": ".py",
   "mimetype": "text/x-python",
   "name": "python",
   "nbconvert_exporter": "python",
   "pygments_lexer": "ipython3",
   "version": "3.11.5"
  }
 },
 "nbformat": 4,
 "nbformat_minor": 5
}
