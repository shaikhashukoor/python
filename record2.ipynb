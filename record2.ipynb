
{
 "cells": [
  {
   "cell_type": "code",
   "execution_count": 3,
   "id": "8b33fa4c",
   "metadata": {},
   "outputs": [
    {
     "name": "stdout",
     "output_type": "stream",
     "text": [
      "enter the temperature celsius=3\n",
      "the fahrenheit of given celcius is 37.4 F\n"
     ]
    }
   ],
   "source": [
    "#python program to convert celsius to fahrenheit\n",
    "import math \n",
    "c=float(input(\"enter the temperature celsius=\"))\n",
    "f=c*9/5+32\n",
    "print(\"the fahrenheit of given celcius is\", f ,\"F\")\n"
   ]
  },
  {
   "cell_type": "code",
   "execution_count": 9,
   "id": "0837c78a",
   "metadata": {},
   "outputs": [
    {
     "name": "stdout",
     "output_type": "stream",
     "text": [
      "enter the kilometer=34\n",
      "kilometer coverted into miles= 21.13 miles\n"
     ]
    }
   ],
   "source": [
    "#CONVERT KILOMETER INTO MILES ONEKILO=O.62137\n",
    "import math\n",
    "kilometer=float(input(\"enter the kilometer=\"))\n",
    "miles=(kilometer*0.62137)\n",
    "rounded_miles=round(miles,2)\n",
    "print(\"kilometer coverted into miles=\",rounded_miles,\"miles\")\n",
    "\n"
   ]
  },
  {
   "cell_type": "code",
   "execution_count": null,
   "id": "30136dbc",
   "metadata": {},
   "outputs": [],
   "source": []
  }
 ],
 "metadata": {
  "kernelspec": {
   "display_name": "Python 3 (ipykernel)",
   "language": "python",
   "name": "python3"
  },
  "language_info": {
   "codemirror_mode": {
    "name": "ipython",
    "version": 3
   },
   "file_extension": ".py",
   "mimetype": "text/x-python",
   "name": "python",
   "nbconvert_exporter": "python",
   "pygments_lexer": "ipython3",
   "version": "3.11.5"
  }
 },
 "nbformat": 4,
 "nbformat_minor": 5
}
