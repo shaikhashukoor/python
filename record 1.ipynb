
{
 "cells": [
  {
   "cell_type": "code",
   "execution_count": 30,
   "id": "1c3488e8",
   "metadata": {},
   "outputs": [
    {
     "name": "stdout",
     "output_type": "stream",
     "text": [
      "enter a integer value=2\n",
      "2 + 22 + 222 = 246\n"
     ]
    }
   ],
   "source": [
    "#compute value of n+nn+nnn\n",
    "import math\n",
    "n=int(input(\"enter a integer value=\"))\n",
    "n=n\n",
    "nn=n*10+n\n",
    "nnn=n*100+n*10+n\n",
    "ans=n+nn+nnn\n",
    "print(n,\"+\",nn,\"+\",nnn,\"=\",ans)\n"
   ]
  },
  {
   "cell_type": "code",
   "execution_count": 40,
   "id": "8459b61d",
   "metadata": {},
   "outputs": [
    {
     "name": "stdout",
     "output_type": "stream",
     "text": [
      "enter the radius of the circle=2\n",
      "area of the circle 12.57\n"
     ]
    }
   ],
   "source": [
    "from math import pi\n",
    "r=float(input(\"enter the radius of the circle=\"))\n",
    "area=pi*r*r\n",
    "rounded=round(area,2)\n",
    "print(\"area of the circle\",rounded)"
   ]
  },
  {
   "cell_type": "code",
   "execution_count": null,
   "id": "15dedcf7",
   "metadata": {},
   "outputs": [],
   "source": []
  }
 ],
 "metadata": {
  "kernelspec": {
   "display_name": "Python 3 (ipykernel)",
   "language": "python",
   "name": "python3"
  },
  "language_info": {
   "codemirror_mode": {
    "name": "ipython",
    "version": 3
   },
   "file_extension": ".py",
   "mimetype": "text/x-python",
   "name": "python",
   "nbconvert_exporter": "python",
   "pygments_lexer": "ipython3",
   "version": "3.11.5"
  }
 },
 "nbformat": 4,
 "nbformat_minor": 5
}
