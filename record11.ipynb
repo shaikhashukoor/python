{
 "cells": [
  {
   "cell_type": "code",
   "execution_count": 13,
   "id": "6e09bd05",
   "metadata": {},
   "outputs": [
    {
     "name": "stdout",
     "output_type": "stream",
     "text": [
      "enter a sentence= as soon as possible as always\n",
      "entered sentence is=  as soon as possible as always\n",
      "always : 1\n",
      "soon : 1\n",
      "as : 3\n",
      "possible : 1\n"
     ]
    }
   ],
   "source": [
    "#count the occurence of each word in a line of text.\n",
    "a=input(\"enter a sentence= \")\n",
    "t=set(a.split())\n",
    "print(\"entered sentence is= \",a)\n",
    "for word in t:\n",
    "    count=a.count(word)\n",
    "    print(word,\":\",count)"
   ]
  },
  {
   "cell_type": "code",
   "execution_count": 43,
   "id": "a31cb8fb",
   "metadata": {},
   "outputs": [
    {
     "name": "stdout",
     "output_type": "stream",
     "text": [
      "enter some integers= 22 103 44\n",
      "entered integers is=  [22, 103, 44]\n",
      "result is [22, 'over', 44]\n"
     ]
    }
   ],
   "source": [
    "#prompt the user for alist of intergers.for all values greater than 100,store over instead\n",
    "a=list(map(int,input(\"enter some integers= \").split()))\n",
    "b=[]\n",
    "print(\"entered integers is= \",a)\n",
    "for n in a:\n",
    "    if n>100:\n",
    "            b.append(\"over\")\n",
    "            \n",
    "    else:\n",
    "        b.append(n)\n",
    "print(\"list is\",b)        "
   ]
  },
  {
   "cell_type": "code",
   "execution_count": 15,
   "id": "9d0a293f",
   "metadata": {},
   "outputs": [
    {
     "name": "stdout",
     "output_type": "stream",
     "text": [
      "enter some first names separated by comma= shaikha,shyma\n",
      "entered first names are=  ['shaikha', 'shyma']\n",
      "total ocuurence of 'a'= 3\n"
     ]
    }
   ],
   "source": [
    "#store a list of first names.count the occurence of a within the list\n",
    "a=input(\"enter some first names separated by comma= \").split(\",\")\n",
    "b=0\n",
    "print(\"entered first names are= \",a)\n",
    "for word in a:\n",
    "    t=word.lower()\n",
    "    b=b+t.count(\"a\")\n",
    "print(\"total ocuurence of 'a'=\",b)"
   ]
  },
  {
   "cell_type": "code",
   "execution_count": 23,
   "id": "e686056a",
   "metadata": {},
   "outputs": [
    {
     "name": "stdout",
     "output_type": "stream",
     "text": [
      "enter a value=68\n",
      "enter a value=22\n",
      "gcd is 2\n"
     ]
    }
   ],
   "source": [
    "#find gcd of two numbers\n",
    "a=int(input(\"enter a value=\"))\n",
    "b=int(input(\"enter a value=\"))\n",
    "while b!=0:\n",
    "    a,b=b,a%b\n",
    "print (\"gcd is\",a)\n",
    "\n"
   ]
  },
  {
   "cell_type": "code",
   "execution_count": 24,
   "id": "e997604e",
   "metadata": {},
   "outputs": [
    {
     "name": "stdout",
     "output_type": "stream",
     "text": [
      "enter some integers= 22 45 67 24\n",
      "entered integers is=  [22, 45, 67, 24]\n",
      "odd number is [45, 67]\n"
     ]
    }
   ],
   "source": [
    "#remove even and print \n",
    "a=list(map(int,input(\"enter some integers= \").split()))\n",
    "b=[]\n",
    "print(\"entered integers is= \",a)\n",
    "for n in a:\n",
    "    if n%2!=0:\n",
    "            b.append(n)\n",
    "print(\"odd number is=\",b)        "
   ]
  },
  {
   "cell_type": "code",
   "execution_count": 25,
   "id": "708d0b16",
   "metadata": {},
   "outputs": [
    {
     "name": "stdout",
     "output_type": "stream",
     "text": [
      "enter a value =6\n",
      "factoral of given number=  720\n"
     ]
    }
   ],
   "source": [
    "#factorial of a number\n",
    "a=int(input(\"enter a value =\"))\n",
    "result=1\n",
    "for i in range(1,a+1):\n",
    "    result=result*i\n",
    "print(\"factoral of given number= \",result)     "
   ]
  },
  {
   "cell_type": "code",
   "execution_count": 39,
   "id": "a25a819d",
   "metadata": {},
   "outputs": [
    {
     "name": "stdout",
     "output_type": "stream",
     "text": [
      "enter a integer=5\n",
      "fibonacci series of given 5 terms\n",
      "0,1,1,2,3,"
     ]
    }
   ],
   "source": [
    "#fibonacci series of n terms\n",
    "f=int(input(\"enter a integer=\"))\n",
    "a=0\n",
    "b=1 \n",
    "print(\"fibonacci series of given\",f,\"terms\")\n",
    "for i in range(f): \n",
    "    print(a,end=\",\")\n",
    "    a,b=b,a+b\n",
    "    \n"
   ]
  },
  {
   "cell_type": "code",
   "execution_count": 42,
   "id": "37a852c5",
   "metadata": {},
   "outputs": [
    {
     "name": "stdout",
     "output_type": "stream",
     "text": [
      "enter some integers= 4 5 3 6 8\n",
      "SUM IS 8\n"
     ]
    }
   ],
   "source": [
    "#find sum of all numbers in list\n",
    "a=list(map(int,input(\"enter some integers= \").split()))\n",
    "sum=0\n",
    "for i in a:\n",
    "    sum=sum+i\n",
    "print(\"SUM IS\",b)"
   ]
  },
  {
   "cell_type": "code",
   "execution_count": 48,
   "id": "815691f6",
   "metadata": {},
   "outputs": [
    {
     "name": "stdout",
     "output_type": "stream",
     "text": [
      "enter a 4 digit starting range =2000\n",
      "enter a  4 digit ending range =8000\n",
      "numbers with even and perfect square root [4624, 6084, 6400]\n"
     ]
    }
   ],
   "source": [
    "#generate a list of four digit numbers in a given range with all their digits even and the number is aperect square\n",
    "import math\n",
    "a=int(input(\"enter a 4 digit starting range =\"))\n",
    "b=int(input(\"enter a  4 digit ending range =\"))\n",
    "result=[]\n",
    "for i in range(a,b+1):\n",
    "    if 1000<=i<=9999:\n",
    "        if all(int(d)%2==0 for d in str(i)):\n",
    "            sqrt=int(math.sqrt(i))\n",
    "            if sqrt*sqrt==i:\n",
    "                result.append(i)\n",
    "print(\"numbers with even and perfect square root\",result) \n"
   ]
  },
  {
   "cell_type": "code",
   "execution_count": 49,
   "id": "2b38d295",
   "metadata": {},
   "outputs": [
    {
     "name": "stdout",
     "output_type": "stream",
     "text": [
      "enter a string= shaikha\n",
      "entered sentence is=  shaikha\n",
      "the character frequency is {'s': 1, 'h': 2, 'a': 2, 'i': 1, 'k': 1}\n"
     ]
    }
   ],
   "source": [
    "#count the  character frequency in a string\n",
    "a=(input(\"enter a string= \"))\n",
    "print(\"entered sentence is= \",a) \n",
    "freq={}\n",
    "for char in a:\n",
    "    freq[char]=freq.get(char,0)+1\n",
    "\n",
    "print(\"the character frequency is\",freq)"
   ]
  },
  {
   "cell_type": "markdown",
   "id": "270d3ab5",
   "metadata": {},
   "source": [
    "### display the given pyramid with step numbers accepted from users\n",
    "step=int(input(\"enter a step numbers =\"))\n",
    "for i in range(1,step+1):\n",
    "    for j in range(1,i+1):\n",
    "        print(i*j,end='  ')\n",
    "    print()    "
   ]
  },
  {
   "cell_type": "code",
   "execution_count": 52,
   "id": "8d641309",
   "metadata": {},
   "outputs": [
    {
     "name": "stdout",
     "output_type": "stream",
     "text": [
      "enter a step numbers =5\n",
      "1 \n",
      "2 4 \n",
      "3 6 9 \n",
      "4 8 12 16 \n",
      "5 10 15 20 25 \n"
     ]
    }
   ],
   "source": [
    "#display the given pyramid with step numbers accepted from users\n",
    "step=int(input(\"enter a step numbers =\"))\n",
    "for i in range(1,step+1):\n",
    "    for j in range(1,i+1): \n",
    "        print(i*j,end=' ') \n",
    "    print()"
   ]
  },
  {
   "cell_type": "code",
   "execution_count": null,
   "id": "09cf6064",
   "metadata": {},
   "outputs": [],
   "source": []
  }
 ],
 "metadata": {
  "kernelspec": {
   "display_name": "Python 3 (ipykernel)",
   "language": "python",
   "name": "python3"
  },
  "language_info": {
   "codemirror_mode": {
    "name": "ipython",
    "version": 3
   },
   "file_extension": ".py",
   "mimetype": "text/x-python",
   "name": "python",
   "nbconvert_exporter": "python",
   "pygments_lexer": "ipython3",
   "version": "3.11.5"
  }
 },
 "nbformat": 4,
 "nbformat_minor": 5
}
