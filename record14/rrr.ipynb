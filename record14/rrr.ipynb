{
 "cells": [
  {
   "cell_type": "code",
   "execution_count": 35,
   "id": "9af3f848",
   "metadata": {},
   "outputs": [
    {
     "name": "stdout",
     "output_type": "stream",
     "text": [
      " 1.circle \n",
      " 2.rectangle \n",
      " 3.exit\n",
      "enter your choice: 1\n",
      "enter the radius of the circle: 2\n",
      "area= 12.56\n",
      "perimeter= 25.12\n",
      " 1.circle \n",
      " 2.rectangle \n",
      " 3.exit\n",
      "enter your choice: 2\n",
      "enter the breadth of the recatngle: 3\n",
      "enter the length of the rectangle: 4\n",
      "area= 12\n",
      "perimeter= 10\n",
      " 1.circle \n",
      " 2.rectangle \n",
      " 3.exit\n",
      "enter your choice: 3\n",
      "exiting....\n"
     ]
    }
   ],
   "source": [
    "import secondd\n",
    "while(1):\n",
    "    print(\" 1.circle \\n 2.rectangle \\n 3.exit\")\n",
    "    h=int(input(\"enter your choice: \"))\n",
    "    if h==1:   \n",
    "        r=int(input(\"enter the radius of the circle: \"))\n",
    "        print(\"area=\",secondd.circlea(r))\n",
    "        print(\"perimeter=\",secondd.circlep(r))\n",
    "    elif h==2:   \n",
    "        b=int(input(\"enter the breadth of the recatngle: \"))\n",
    "        l=int(input(\"enter the length of the rectangle: \"))      \n",
    "        print(\"area=\",secondd.rectanglea(b,l))\n",
    "        print(\"perimeter=\",secondd.rectanglep(b,l))          \n",
    "    else:\n",
    "        print(\"exiting....\")\n",
    "        break\n",
    "\n",
    "      "
   ]
  },
  {
   "cell_type": "code",
   "execution_count": null,
   "id": "6b40565a",
   "metadata": {},
   "outputs": [],
   "source": []
  }
 ],
 "metadata": {
  "kernelspec": {
   "display_name": "Python 3 (ipykernel)",
   "language": "python",
   "name": "python3"
  },
  "language_info": {
   "codemirror_mode": {
    "name": "ipython",
    "version": 3
   },
   "file_extension": ".py",
   "mimetype": "text/x-python",
   "name": "python",
   "nbconvert_exporter": "python",
   "pygments_lexer": "ipython3",
   "version": "3.11.5"
  }
 },
 "nbformat": 4,
 "nbformat_minor": 5
}
