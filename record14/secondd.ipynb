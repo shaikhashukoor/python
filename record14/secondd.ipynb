{
 "cells": [
  {
   "cell_type": "code",
   "execution_count": null,
   "id": "539b8140",
   "metadata": {},
   "outputs": [],
   "source": [
    "def circlea (r):\n",
    "    return 3.14*r*r\n",
    "def circlep (r):\n",
    "    return 4*3.14*r\n",
    "def rectanglea (b,l):\n",
    "    return b*l\n",
    "def rectanglep (l,b):\n",
    "    return 2*l+b\n"
   ]
  },
  {
   "cell_type": "code",
   "execution_count": 2,
   "id": "474172f2",
   "metadata": {},
   "outputs": [
    {
     "name": "stdout",
     "output_type": "stream",
     "text": [
      "[NbConvertApp] Converting notebook secondd.ipynb to python\n",
      "[NbConvertApp] Writing 292 bytes to secondd.py\n"
     ]
    }
   ],
   "source": [
    "!jupyter nbconvert --to python secondd.ipynb"
   ]
  },
  {
   "cell_type": "code",
   "execution_count": null,
   "id": "510798a6",
   "metadata": {},
   "outputs": [],
   "source": []
  }
 ],
 "metadata": {
  "kernelspec": {
   "display_name": "Python 3 (ipykernel)",
   "language": "python",
   "name": "python3"
  },
  "language_info": {
   "codemirror_mode": {
    "name": "ipython",
    "version": 3
   },
   "file_extension": ".py",
   "mimetype": "text/x-python",
   "name": "python",
   "nbconvert_exporter": "python",
   "pygments_lexer": "ipython3",
   "version": "3.11.5"
  }
 },
 "nbformat": 4,
 "nbformat_minor": 5
}
