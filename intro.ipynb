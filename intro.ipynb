
{
 "cells": [
  {
   "cell_type": "code",
   "execution_count": 2,
   "id": "ad924e3f",
   "metadata": {},
   "outputs": [
    {
     "name": "stdout",
     "output_type": "stream",
     "text": [
      "good morning\n"
     ]
    }
   ],
   "source": [
    "print (\"good morning\")"
   ]
  },
  {
   "cell_type": "code",
   "execution_count": 7,
   "id": "0e66a319",
   "metadata": {},
   "outputs": [
    {
     "name": "stdout",
     "output_type": "stream",
     "text": [
      "address = kollkatil kallayath house \n",
      " kanchippura \n",
      " karippol po 676552 \n",
      " valanchery \n",
      " malappuram\n"
     ]
    }
   ],
   "source": [
    "print(\"address = kollkatil kallayath house \\n kanchippura \\n karippol po 676552 \\n valanchery \\n malappuram\")"
   ]
  },
  {
   "cell_type": "code",
   "execution_count": 8,
   "id": "1eaa971f",
   "metadata": {},
   "outputs": [
    {
     "name": "stdout",
     "output_type": "stream",
     "text": [
      "2.5\n"
     ]
    }
   ],
   "source": [
    "print(5/2)"
   ]
  },
  {
   "cell_type": "code",
   "execution_count": 9,
   "id": "0edcff48",
   "metadata": {},
   "outputs": [
    {
     "name": "stdout",
     "output_type": "stream",
     "text": [
      "2\n"
     ]
    }
   ],
   "source": [
    "print(5//2)"
   ]
  },
  {
   "cell_type": "code",
   "execution_count": 10,
   "id": "4f67559d",
   "metadata": {},
   "outputs": [
    {
     "name": "stdout",
     "output_type": "stream",
     "text": [
      "8\n"
     ]
    }
   ],
   "source": [
    "print(2*2*2)"
   ]
  },
  {
   "cell_type": "code",
   "execution_count": 11,
   "id": "60a3c782",
   "metadata": {},
   "outputs": [
    {
     "name": "stdout",
     "output_type": "stream",
     "text": [
      "8\n"
     ]
    }
   ],
   "source": [
    "print(2**3)"
   ]
  },
  {
   "cell_type": "code",
   "execution_count": 16,
   "id": "01082ebe",
   "metadata": {},
   "outputs": [
    {
     "name": "stdout",
     "output_type": "stream",
     "text": [
      "mca student's\n"
     ]
    }
   ],
   "source": [
    "print(\"mca student's\")"
   ]
  },
  {
   "cell_type": "code",
   "execution_count": 19,
   "id": "02d1de5b",
   "metadata": {},
   "outputs": [
    {
     "name": "stdout",
     "output_type": "stream",
     "text": [
      "mca \"students\"\n"
     ]
    }
   ],
   "source": [
    "print('mca \"students\"')"
   ]
  },
  {
   "cell_type": "code",
   "execution_count": 23,
   "id": "dbca38b6",
   "metadata": {},
   "outputs": [
    {
     "name": "stdout",
     "output_type": "stream",
     "text": [
      "name= shaikha\n"
     ]
    }
   ],
   "source": [
    "n=\"shaikha\"\n",
    "print(\"name=\",n)"
   ]
  },
  {
   "cell_type": "code",
   "execution_count": 34,
   "id": "85f3357e",
   "metadata": {},
   "outputs": [
    {
     "name": "stdout",
     "output_type": "stream",
     "text": [
      "name= shai\n"
     ]
    }
   ],
   "source": [
    "n=\"shaikha\"\n",
    "print(\"name=\",n[0:4])"
   ]
  },
  {
   "cell_type": "code",
   "execution_count": null,
   "id": "f2aeb4fe",
   "metadata": {},
   "outputs": [],
   "source": []
  },
  {
   "cell_type": "code",
   "execution_count": null,
   "id": "18a20bca",
   "metadata": {},
   "outputs": [],
   "source": []
  }
 ],
 "metadata": {
  "kernelspec": {
   "display_name": "Python 3 (ipykernel)",
   "language": "python",
   "name": "python3"
  },
  "language_info": {
   "codemirror_mode": {
    "name": "ipython",
    "version": 3
   },
   "file_extension": ".py",
   "mimetype": "text/x-python",
   "name": "python",
   "nbconvert_exporter": "python",
   "pygments_lexer": "ipython3",
   "version": "3.11.5"
  }
 },
 "nbformat": 4,
 "nbformat_minor": 5
}
